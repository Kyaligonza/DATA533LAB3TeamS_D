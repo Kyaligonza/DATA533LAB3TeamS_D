{
 "cells": [
  {
   "cell_type": "code",
   "execution_count": 4,
   "metadata": {},
   "outputs": [
    {
     "name": "stderr",
     "output_type": "stream",
     "text": [
      "test_mirrorsquared (__main__.TestMirrorSquared) ... "
     ]
    },
    {
     "name": "stdout",
     "output_type": "stream",
     "text": [
      "teardownclass to complete running suite\n"
     ]
    },
    {
     "name": "stderr",
     "output_type": "stream",
     "text": [
      "ok\n",
      "\n",
      "----------------------------------------------------------------------\n",
      "Ran 1 test in 0.006s\n",
      "\n",
      "OK\n"
     ]
    },
    {
     "data": {
      "text/plain": [
       "<unittest.main.TestProgram at 0x1d0c180d5f8>"
      ]
     },
     "execution_count": 4,
     "metadata": {},
     "output_type": "execute_result"
    }
   ],
   "source": [
    "import unittest\n",
    "from encryptor.encrysimple.mirrorsquared import MirrorSquared\n",
    "\n",
    "\n",
    "class TestMirrorSquared(unittest.TestCase):\n",
    "    \n",
    "    @classmethod\n",
    "    def setUPClass(cls):\n",
    "        print(\"setupclass to run suite\")\n",
    "        \n",
    "    def setUp(self): \n",
    "        self.t1 = MirrorSquared(\"DOG IS\")#test for  all capitals\n",
    "        self.t2 = MirrorSquared(\"DOG\")# test for single word\n",
    "        self.t3 = MirrorSquared(\"dog is mad\")#test for  all lowercases\n",
    "        self.t4 = MirrorSquared(\"dog 'he said' what\")# sentence(s) with '' inside\n",
    "        self.t5 = MirrorSquared(\"dog \\ where has it gone\") # sentence with \\ inside \n",
    "        \n",
    "    def tearDown(self):\n",
    "        self.t1 = MirrorSquared(\"DOG IS\")#test for  all capitals\n",
    "        self.t2 = MirrorSquared(\"DOG\")# test for single word\n",
    "        self.t3 = MirrorSquared(\"dog is mad\")#test for  all lowercases\n",
    "        self.t4 = MirrorSquared(\"dog 'he said' what\")# sentence(s) with '' inside\n",
    "        self.t5 = MirrorSquared(\"dog \\ where has it gone\") # sentence with \\ inside \n",
    "\n",
    "    def test_mirrorsquared(self):\n",
    "        self.assertEqual(self.t1.text_revsquared(), 'S I   G O D')\n",
    "        self.assertTrue(self.t2.text_revsquared(), 'G O D')\n",
    "        self.assertEqual(self.t3.text_revsquared(), 'd a m   s i   g o d')\n",
    "        self.assertEqual(self.t4.text_revsquared(), \"t a h w   ' d i a s   e h '   g o d\")\n",
    "        self.assertEqual(self.t5.text_revsquared(),\"e n o g   t i   s a h   e r e h w   \\   g o d\")\n",
    "        \n",
    "    @classmethod\n",
    "    def tearDownClass(cls):\n",
    "        print(\"teardownclass to complete running suite\")\n",
    "        \n",
    "unittest.main(argv=[''], verbosity=2, exit=False) "
   ]
  }
 ],
 "metadata": {
  "kernelspec": {
   "display_name": "Python 3",
   "language": "python",
   "name": "python3"
  },
  "language_info": {
   "codemirror_mode": {
    "name": "ipython",
    "version": 3
   },
   "file_extension": ".py",
   "mimetype": "text/x-python",
   "name": "python",
   "nbconvert_exporter": "python",
   "pygments_lexer": "ipython3",
   "version": "3.6.5"
  }
 },
 "nbformat": 4,
 "nbformat_minor": 2
}
