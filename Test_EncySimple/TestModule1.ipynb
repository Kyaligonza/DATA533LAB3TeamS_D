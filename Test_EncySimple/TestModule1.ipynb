{
 "cells": [
  {
   "cell_type": "code",
   "execution_count": null,
   "metadata": {},
   "outputs": [],
   "source": [
    "import unittest\n",
    "from encryptor.encrysimple.mirror import Mirror\n",
    "\n",
    "\n",
    "class TestMirror(unittest.TestCase):\n",
    "    \n",
    "    @classmethod\n",
    "    def setUPClass(cls):\n",
    "        print(\"setupclass to run suite\")\n",
    "        \n",
    "    def setUp(self): \n",
    "        self.t1 = Mirror(\"DOG IS\")#test for  all capitals\n",
    "        self.t2 = Mirror(\"DOG\")# test for single word\n",
    "        self.t3 = Mirror(\"dog is mad\")#test for  all lowercases\n",
    "        self.t4 = Mirror(\"dog 'he said' what\")# sentence(s) with '' inside\n",
    "        self.t5 = Mirror(\"dog \\ where has it gone\") # sentence with \\ inside \n",
    "        \n",
    "    def tearDown(self):\n",
    "        self.t1 = Mirror(\"DOG IS\")#test for  all capitals\n",
    "        self.t2 = Mirror(\"DOG\")# test for single word\n",
    "        self.t3 = Mirror(\"dog is mad\")#test for  all lowercases\n",
    "        self.t4 = Mirror(\"dog 'he said' what\")# sentence(s) with '' inside\n",
    "        self.t5 = Mirror(\"dog \\ where has it gone\") # sentence with \\ inside \n",
    "\n",
    "    def test_mirror(self):\n",
    "        self.assertEqual(self.t1.text_revmirror(), 'IS DOG')\n",
    "        self.assertTrue(self.t2.text_revmirror(), 'DOG')\n",
    "        self.assertEqual(self.t3.text_revmirror(), 'mad is dog')\n",
    "        self.assertTrue(self.t4.text_revmirror(), \"what 'said he' dog\")\n",
    "        self.assertEqual(self.t5.text_revmirror(),\"gone it has where \\ dog\")\n",
    "        \n",
    "    @classmethod\n",
    "    def tearDownClass(cls):\n",
    "        print(\"teardownclass to complete running suite\")\n",
    "        \n",
    "unittest.main(argv=[''], verbosity=2, exit=False) "
   ]
  }
 ],
 "metadata": {
  "kernelspec": {
   "display_name": "Python 3",
   "language": "python",
   "name": "python3"
  },
  "language_info": {
   "codemirror_mode": {
    "name": "ipython",
    "version": 3
   },
   "file_extension": ".py",
   "mimetype": "text/x-python",
   "name": "python",
   "nbconvert_exporter": "python",
   "pygments_lexer": "ipython3",
   "version": "3.6.5"
  }
 },
 "nbformat": 4,
 "nbformat_minor": 2
}
